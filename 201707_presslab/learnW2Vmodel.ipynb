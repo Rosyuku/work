{
 "cells": [
  {
   "cell_type": "markdown",
   "metadata": {},
   "source": [
    "<h1>Word2Vecのモデルを学習する</h1>"
   ]
  },
  {
   "cell_type": "code",
   "execution_count": 1,
   "metadata": {
    "collapsed": true
   },
   "outputs": [],
   "source": [
    "#必要なモジュールのimport\n",
    "import pandas as pd\n",
    "import MeCab\n",
    "from gensim.models import word2vec\n",
    "import re\n",
    "from io import StringIO\n",
    "from joblib import Parallel, delayed"
   ]
  },
  {
   "cell_type": "markdown",
   "metadata": {},
   "source": [
    "Importエラーが出た場合、適宜モジュールのインストールをお願いします。\n",
    "Mecabはインストールが少し大変です。下記サイト等を参考にしてください。\n",
    "http://qiita.com/ichiroex/items/c330413d5bc286df4801"
   ]
  },
  {
   "cell_type": "code",
   "execution_count": 2,
   "metadata": {
    "collapsed": true
   },
   "outputs": [],
   "source": [
    "#形態要素解析\n",
    "#sentence（文章）を受け取り、texts（形態要素）を返すファンクション。\n",
    "def tokenize(sentence):\n",
    "    \n",
    "    try:\n",
    "        \n",
    "        mecab = MeCab.Tagger(\"-Ochasen\")\n",
    "        data = mecab.parse(sentence)\n",
    "        data = StringIO(data)\n",
    "        data = pd.read_csv(data, sep='\\t', header=None)       \n",
    "        #名詞のみを使う。\n",
    "        data = data.loc[(data[3].str.find(\"名詞\") >= 0) & (data[3].str.find(\"接頭詞\") < 0) & (data[3].str.find(\"サ変接続\") < 0)]\n",
    "        texts = list(data[0])\n",
    "        \n",
    "        return texts\n",
    "    \n",
    "    except:\n",
    "        \n",
    "        return []"
   ]
  },
  {
   "cell_type": "code",
   "execution_count": 3,
   "metadata": {},
   "outputs": [],
   "source": [
    "#データ読み込み\n",
    "df = pd.read_csv(\"data_for_w2v.csv\")"
   ]
  },
  {
   "cell_type": "code",
   "execution_count": 4,
   "metadata": {},
   "outputs": [
    {
     "data": {
      "text/html": [
       "<div>\n",
       "<style>\n",
       "    .dataframe thead tr:only-child th {\n",
       "        text-align: right;\n",
       "    }\n",
       "\n",
       "    .dataframe thead th {\n",
       "        text-align: left;\n",
       "    }\n",
       "\n",
       "    .dataframe tbody tr th {\n",
       "        vertical-align: top;\n",
       "    }\n",
       "</style>\n",
       "<table border=\"1\" class=\"dataframe\">\n",
       "  <thead>\n",
       "    <tr style=\"text-align: right;\">\n",
       "      <th></th>\n",
       "      <th>cnt_access</th>\n",
       "      <th>cnt_result</th>\n",
       "      <th>cnt_print</th>\n",
       "      <th>title</th>\n",
       "      <th>summary</th>\n",
       "      <th>content</th>\n",
       "      <th>send_date</th>\n",
       "      <th>genre_id</th>\n",
       "      <th>category_id</th>\n",
       "    </tr>\n",
       "  </thead>\n",
       "  <tbody>\n",
       "    <tr>\n",
       "      <th>0</th>\n",
       "      <td>24.0</td>\n",
       "      <td>122.0</td>\n",
       "      <td>3.0</td>\n",
       "      <td>Dial In Numbers（ダイヤル・イン・ナンバーズ）: Xoxzoの新機能リリース！</td>\n",
       "      <td>簡単なHTTPリクエストを使って、通話機能とSMS送信ができるサービス、Xoxzo（ゾクゾー...</td>\n",
       "      <td>2015年11月よりご愛顧いただいております、簡単なHTTPリクエストを使って、通話機能とS...</td>\n",
       "      <td>2016-06-10 11:00:00</td>\n",
       "      <td>2</td>\n",
       "      <td>2</td>\n",
       "    </tr>\n",
       "    <tr>\n",
       "      <th>1</th>\n",
       "      <td>23.0</td>\n",
       "      <td>108.0</td>\n",
       "      <td>1.0</td>\n",
       "      <td>エクアドル人コミュニティー熊本支援</td>\n",
       "      <td>2016年4月16日、熊本県とエクアドル北部沿岸部で同日に大震災が起こり、多くの人々の命が奪...</td>\n",
       "      <td>2016年4月16日、熊本県とエクアドル北部沿岸部で同日に大震災が起こり、多くの人々の命が奪...</td>\n",
       "      <td>2016-06-10 11:00:00</td>\n",
       "      <td>19</td>\n",
       "      <td>99</td>\n",
       "    </tr>\n",
       "    <tr>\n",
       "      <th>2</th>\n",
       "      <td>19.0</td>\n",
       "      <td>155.0</td>\n",
       "      <td>1.0</td>\n",
       "      <td>2016年春、一年を通じて梅を満喫できる客室「あたみ梅の間 特別室」が誕生しました。【界 熱海】</td>\n",
       "      <td>温暖な気候で多数の梅の名所があることでも知られている熱海。その熱海・伊豆山に佇む「星野リゾー...</td>\n",
       "      <td>梅の意匠を愛で、熱海の文化に触れる滞在を\\n全国で展開している温泉旅館ブランド「星野リゾート...</td>\n",
       "      <td>2016-06-10 12:00:00</td>\n",
       "      <td>21</td>\n",
       "      <td>2</td>\n",
       "    </tr>\n",
       "    <tr>\n",
       "      <th>3</th>\n",
       "      <td>42.0</td>\n",
       "      <td>123.0</td>\n",
       "      <td>44.0</td>\n",
       "      <td>【上海問屋限定販売】スマホやゲーム機などの映像がド迫力で目の前に　ゴーグル型ウェアラブルHD...</td>\n",
       "      <td>株式会社ドスパラ（東京都千代田区）が運営、世界中の商品を輸入販売する上海問屋は、寝ながらでも...</td>\n",
       "      <td>【フルHD(1080P/1080i)に対応】\\n\\n　スマホやタブレット、ゲーム機、PCなど...</td>\n",
       "      <td>2016-06-10 14:00:00</td>\n",
       "      <td>23</td>\n",
       "      <td>1</td>\n",
       "    </tr>\n",
       "    <tr>\n",
       "      <th>4</th>\n",
       "      <td>24.0</td>\n",
       "      <td>124.0</td>\n",
       "      <td>2.0</td>\n",
       "      <td>満足できなければ、費用はいただきません。ステージグループが１２年目のチャレンジとして、ウェブ...</td>\n",
       "      <td>ウェブコンサルティング、企画・制作で実績10,000サイト以上のステージグループ（東京千代田...</td>\n",
       "      <td>＜背景＞\\n●サイト制作の需要は増加傾向\\n\\n年間１０００社以上のウェブサイトを構築してい...</td>\n",
       "      <td>2016-06-10 14:00:00</td>\n",
       "      <td>2</td>\n",
       "      <td>6</td>\n",
       "    </tr>\n",
       "  </tbody>\n",
       "</table>\n",
       "</div>"
      ],
      "text/plain": [
       "   cnt_access  cnt_result  cnt_print  \\\n",
       "0        24.0       122.0        3.0   \n",
       "1        23.0       108.0        1.0   \n",
       "2        19.0       155.0        1.0   \n",
       "3        42.0       123.0       44.0   \n",
       "4        24.0       124.0        2.0   \n",
       "\n",
       "                                               title  \\\n",
       "0     Dial In Numbers（ダイヤル・イン・ナンバーズ）: Xoxzoの新機能リリース！   \n",
       "1                                  エクアドル人コミュニティー熊本支援   \n",
       "2   2016年春、一年を通じて梅を満喫できる客室「あたみ梅の間 特別室」が誕生しました。【界 熱海】   \n",
       "3  【上海問屋限定販売】スマホやゲーム機などの映像がド迫力で目の前に　ゴーグル型ウェアラブルHD...   \n",
       "4  満足できなければ、費用はいただきません。ステージグループが１２年目のチャレンジとして、ウェブ...   \n",
       "\n",
       "                                             summary  \\\n",
       "0  簡単なHTTPリクエストを使って、通話機能とSMS送信ができるサービス、Xoxzo（ゾクゾー...   \n",
       "1  2016年4月16日、熊本県とエクアドル北部沿岸部で同日に大震災が起こり、多くの人々の命が奪...   \n",
       "2  温暖な気候で多数の梅の名所があることでも知られている熱海。その熱海・伊豆山に佇む「星野リゾー...   \n",
       "3  株式会社ドスパラ（東京都千代田区）が運営、世界中の商品を輸入販売する上海問屋は、寝ながらでも...   \n",
       "4  ウェブコンサルティング、企画・制作で実績10,000サイト以上のステージグループ（東京千代田...   \n",
       "\n",
       "                                             content            send_date  \\\n",
       "0  2015年11月よりご愛顧いただいております、簡単なHTTPリクエストを使って、通話機能とS...  2016-06-10 11:00:00   \n",
       "1  2016年4月16日、熊本県とエクアドル北部沿岸部で同日に大震災が起こり、多くの人々の命が奪...  2016-06-10 11:00:00   \n",
       "2  梅の意匠を愛で、熱海の文化に触れる滞在を\\n全国で展開している温泉旅館ブランド「星野リゾート...  2016-06-10 12:00:00   \n",
       "3  【フルHD(1080P/1080i)に対応】\\n\\n　スマホやタブレット、ゲーム機、PCなど...  2016-06-10 14:00:00   \n",
       "4  ＜背景＞\\n●サイト制作の需要は増加傾向\\n\\n年間１０００社以上のウェブサイトを構築してい...  2016-06-10 14:00:00   \n",
       "\n",
       "   genre_id  category_id  \n",
       "0         2            2  \n",
       "1        19           99  \n",
       "2        21            2  \n",
       "3        23            1  \n",
       "4         2            6  "
      ]
     },
     "execution_count": 4,
     "metadata": {},
     "output_type": "execute_result"
    }
   ],
   "source": [
    "#データ確認\n",
    "df.head()"
   ]
  },
  {
   "cell_type": "code",
   "execution_count": 5,
   "metadata": {
    "collapsed": true
   },
   "outputs": [],
   "source": [
    "#テキストの入っているデータを抽出\n",
    "textdf = pd.melt(df, value_vars=['title', 'summary', 'content'])\n",
    "#改行でsentenceごとに切り分け\n",
    "docs = re.split(\"[\\n]\", ('\\n'.join(textdf['value'].str.lower().values)).replace(\"\\u3000\",\"\"))"
   ]
  },
  {
   "cell_type": "code",
   "execution_count": 6,
   "metadata": {},
   "outputs": [
    {
     "data": {
      "text/plain": [
       "['dial in numbers（ダイヤル・イン・ナンバーズ）: xoxzoの新機能リリース！',\n",
       " 'エクアドル人コミュニティー熊本支援',\n",
       " '2016年春、一年を通じて梅を満喫できる客室「あたみ梅の間 特別室」が誕生しました。【界 熱海】',\n",
       " '【上海問屋限定販売】スマホやゲーム機などの映像がド迫力で目の前にゴーグル型ウェアラブルhdmiディスプレイ販売開始',\n",
       " '満足できなければ、費用はいただきません。ステージグループが１２年目のチャレンジとして、ウェブ制作の「全額返金保証サービス」をスタート。']"
      ]
     },
     "execution_count": 6,
     "metadata": {},
     "output_type": "execute_result"
    }
   ],
   "source": [
    "#データ確認\n",
    "docs[:5]"
   ]
  },
  {
   "cell_type": "code",
   "execution_count": 7,
   "metadata": {},
   "outputs": [
    {
     "name": "stderr",
     "output_type": "stream",
     "text": [
      "[Parallel(n_jobs=2)]: Done   1 tasks      | elapsed:    0.0s\n",
      "[Parallel(n_jobs=2)]: Batch computation too fast (0.0096s.) Setting batch_size=40.\n",
      "[Parallel(n_jobs=2)]: Done   4 tasks      | elapsed:    0.0s\n",
      "[Parallel(n_jobs=2)]: Batch computation too fast (0.1413s.) Setting batch_size=112.\n",
      "[Parallel(n_jobs=2)]: Done 276 tasks      | elapsed:    0.7s\n",
      "[Parallel(n_jobs=2)]: Done 836 tasks      | elapsed:    1.4s\n",
      "[Parallel(n_jobs=2)]: Done 1620 tasks      | elapsed:    3.0s\n",
      "[Parallel(n_jobs=2)]: Done 2404 tasks      | elapsed:    4.2s\n",
      "[Parallel(n_jobs=2)]: Done 3412 tasks      | elapsed:    6.0s\n",
      "[Parallel(n_jobs=2)]: Done 4420 tasks      | elapsed:    7.6s\n",
      "[Parallel(n_jobs=2)]: Done 5652 tasks      | elapsed:   10.1s\n",
      "[Parallel(n_jobs=2)]: Done 6884 tasks      | elapsed:   12.5s\n",
      "[Parallel(n_jobs=2)]: Done 8340 tasks      | elapsed:   15.7s\n",
      "[Parallel(n_jobs=2)]: Done 9796 tasks      | elapsed:   18.5s\n",
      "[Parallel(n_jobs=2)]: Done 11476 tasks      | elapsed:   20.9s\n",
      "[Parallel(n_jobs=2)]: Done 13156 tasks      | elapsed:   23.0s\n",
      "[Parallel(n_jobs=2)]: Done 15060 tasks      | elapsed:   26.1s\n",
      "[Parallel(n_jobs=2)]: Done 16964 tasks      | elapsed:   28.7s\n",
      "[Parallel(n_jobs=2)]: Done 19092 tasks      | elapsed:   31.6s\n",
      "[Parallel(n_jobs=2)]: Done 21220 tasks      | elapsed:   34.4s\n",
      "[Parallel(n_jobs=2)]: Done 23572 tasks      | elapsed:   37.6s\n",
      "[Parallel(n_jobs=2)]: Done 25924 tasks      | elapsed:   40.6s\n",
      "[Parallel(n_jobs=2)]: Done 28500 tasks      | elapsed:   44.3s\n",
      "[Parallel(n_jobs=2)]: Done 31076 tasks      | elapsed:   47.6s\n",
      "[Parallel(n_jobs=2)]: Done 33876 tasks      | elapsed:   51.6s\n",
      "[Parallel(n_jobs=2)]: Done 36676 tasks      | elapsed:   55.4s\n",
      "[Parallel(n_jobs=2)]: Done 39700 tasks      | elapsed:   59.4s\n",
      "[Parallel(n_jobs=2)]: Done 42724 tasks      | elapsed:  1.1min\n",
      "[Parallel(n_jobs=2)]: Done 45972 tasks      | elapsed:  1.1min\n",
      "[Parallel(n_jobs=2)]: Done 49220 tasks      | elapsed:  1.2min\n",
      "[Parallel(n_jobs=2)]: Done 52692 tasks      | elapsed:  1.3min\n",
      "[Parallel(n_jobs=2)]: Done 56164 tasks      | elapsed:  1.4min\n",
      "[Parallel(n_jobs=2)]: Done 59860 tasks      | elapsed:  1.5min\n",
      "[Parallel(n_jobs=2)]: Done 63556 tasks      | elapsed:  1.6min\n",
      "[Parallel(n_jobs=2)]: Done 67476 tasks      | elapsed:  1.7min\n",
      "[Parallel(n_jobs=2)]: Done 71396 tasks      | elapsed:  1.8min\n",
      "[Parallel(n_jobs=2)]: Done 75540 tasks      | elapsed:  1.9min\n",
      "[Parallel(n_jobs=2)]: Done 79684 tasks      | elapsed:  2.0min\n",
      "[Parallel(n_jobs=2)]: Done 84052 tasks      | elapsed:  2.1min\n",
      "[Parallel(n_jobs=2)]: Done 88420 tasks      | elapsed:  2.2min\n",
      "[Parallel(n_jobs=2)]: Done 93012 tasks      | elapsed:  2.3min\n",
      "[Parallel(n_jobs=2)]: Done 97604 tasks      | elapsed:  2.4min\n",
      "[Parallel(n_jobs=2)]: Done 102420 tasks      | elapsed:  2.5min\n",
      "[Parallel(n_jobs=2)]: Done 107236 tasks      | elapsed:  2.6min\n",
      "[Parallel(n_jobs=2)]: Done 112276 tasks      | elapsed:  2.8min\n",
      "[Parallel(n_jobs=2)]: Done 117316 tasks      | elapsed:  2.9min\n",
      "[Parallel(n_jobs=2)]: Done 122580 tasks      | elapsed:  3.0min\n",
      "[Parallel(n_jobs=2)]: Done 127844 tasks      | elapsed:  3.1min\n",
      "[Parallel(n_jobs=2)]: Done 133332 tasks      | elapsed:  3.2min\n",
      "[Parallel(n_jobs=2)]: Done 138820 tasks      | elapsed:  3.4min\n",
      "[Parallel(n_jobs=2)]: Done 144532 tasks      | elapsed:  3.5min\n",
      "[Parallel(n_jobs=2)]: Done 150244 tasks      | elapsed:  3.7min\n",
      "[Parallel(n_jobs=2)]: Done 156180 tasks      | elapsed:  3.8min\n",
      "[Parallel(n_jobs=2)]: Done 162116 tasks      | elapsed:  3.9min\n",
      "[Parallel(n_jobs=2)]: Done 168276 tasks      | elapsed:  4.1min\n",
      "[Parallel(n_jobs=2)]: Done 174436 tasks      | elapsed:  4.2min\n",
      "[Parallel(n_jobs=2)]: Done 180820 tasks      | elapsed:  4.4min\n",
      "[Parallel(n_jobs=2)]: Done 187204 tasks      | elapsed:  4.5min\n",
      "[Parallel(n_jobs=2)]: Done 193812 tasks      | elapsed:  4.7min\n",
      "[Parallel(n_jobs=2)]: Done 200420 tasks      | elapsed:  4.9min\n",
      "[Parallel(n_jobs=2)]: Done 207252 tasks      | elapsed:  5.0min\n",
      "[Parallel(n_jobs=2)]: Done 214084 tasks      | elapsed:  5.2min\n",
      "[Parallel(n_jobs=2)]: Done 221140 tasks      | elapsed:  5.4min\n",
      "[Parallel(n_jobs=2)]: Done 228196 tasks      | elapsed:  5.6min\n",
      "[Parallel(n_jobs=2)]: Done 235476 tasks      | elapsed:  5.7min\n",
      "[Parallel(n_jobs=2)]: Done 242756 tasks      | elapsed:  5.9min\n",
      "[Parallel(n_jobs=2)]: Done 250260 tasks      | elapsed:  6.1min\n",
      "[Parallel(n_jobs=2)]: Done 257764 tasks      | elapsed:  6.2min\n",
      "[Parallel(n_jobs=2)]: Done 265492 tasks      | elapsed:  6.4min\n",
      "[Parallel(n_jobs=2)]: Done 273220 tasks      | elapsed:  6.6min\n",
      "[Parallel(n_jobs=2)]: Done 281172 tasks      | elapsed:  6.8min\n",
      "[Parallel(n_jobs=2)]: Done 289124 tasks      | elapsed:  7.0min\n",
      "[Parallel(n_jobs=2)]: Done 294327 out of 294327 | elapsed:  7.1min finished\n"
     ]
    }
   ],
   "source": [
    "#形態要素解析（時間がかかります）\n",
    "#n_jobsは並列計算数です。コア数に応じて設定してください。\n",
    "tokeData = Parallel(n_jobs=2, verbose=10)([delayed(tokenize)(s) for s in docs])"
   ]
  },
  {
   "cell_type": "code",
   "execution_count": 8,
   "metadata": {},
   "outputs": [
    {
     "name": "stdout",
     "output_type": "stream",
     "text": [
      "['dial', 'in', 'numbers', 'ダイヤル', 'イン', 'ナンバーズ', 'xoxzo']\n"
     ]
    }
   ],
   "source": [
    "#データ確認\n",
    "print(tokeData[0])"
   ]
  },
  {
   "cell_type": "code",
   "execution_count": 9,
   "metadata": {
    "collapsed": true
   },
   "outputs": [],
   "source": [
    "#Word2Vecモデルの学習\n",
    "#sizeは特徴量の数、min_count以下の登場数の単語を無視、前後window幅の単語との関係を考慮、iter回数分繰り返し計算\n",
    "model = word2vec.Word2Vec(tokeData,\n",
    "                          size=100,\n",
    "                          min_count=5,\n",
    "                          window=5,\n",
    "                          iter=3)"
   ]
  },
  {
   "cell_type": "code",
   "execution_count": 10,
   "metadata": {
    "collapsed": true
   },
   "outputs": [],
   "source": [
    "#モデルの保存\n",
    "model.save(\"word2vec.gensim.model\")"
   ]
  }
 ],
 "metadata": {
  "kernelspec": {
   "display_name": "Python 3",
   "language": "python",
   "name": "python3"
  },
  "language_info": {
   "codemirror_mode": {
    "name": "ipython",
    "version": 3
   },
   "file_extension": ".py",
   "mimetype": "text/x-python",
   "name": "python",
   "nbconvert_exporter": "python",
   "pygments_lexer": "ipython3",
   "version": "3.6.1"
  }
 },
 "nbformat": 4,
 "nbformat_minor": 2
}
